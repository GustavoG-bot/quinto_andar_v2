{
 "cells": [
  {
   "cell_type": "markdown",
   "metadata": {},
   "source": [
    "## Verificando se a instalacão está correta"
   ]
  },
  {
   "cell_type": "markdown",
   "metadata": {},
   "source": [
    "Se aparecer Received quer dizer que está correta!"
   ]
  },
  {
   "cell_type": "code",
   "execution_count": 2,
   "metadata": {},
   "outputs": [
    {
     "name": "stdout",
     "output_type": "stream",
     "text": [
      "Received!\n"
     ]
    }
   ],
   "source": [
    "from selenium import webdriver\n",
    "from selenium.webdriver.common.by import By\n",
    "from selenium.webdriver.chrome.service import Service\n",
    "\n",
    "# Caminho para o ChromeDriver\n",
    "service = Service('C:/chromedriver-win64/chromedriver.exe')\n",
    "\n",
    "# Inicializando o driver com o Service\n",
    "driver = webdriver.Chrome(service=service)\n",
    "\n",
    "driver.get(\"https://www.selenium.dev/selenium/web/web-form.html\")\n",
    "\n",
    "title = driver.title\n",
    "\n",
    "driver.implicitly_wait(0.5)\n",
    "\n",
    "text_box = driver.find_element(by=By.NAME, value=\"my-text\")\n",
    "submit_button = driver.find_element(by=By.CSS_SELECTOR, value=\"button\")\n",
    "\n",
    "text_box.send_keys(\"Selenium\")\n",
    "submit_button.click()\n",
    "\n",
    "message = driver.find_element(by=By.ID, value=\"message\")\n",
    "text = message.text\n",
    "\n",
    "print(text)\n",
    "\n",
    "driver.quit()"
   ]
  },
  {
   "cell_type": "markdown",
   "metadata": {},
   "source": [
    "## Verificando versão do selenium"
   ]
  },
  {
   "cell_type": "markdown",
   "metadata": {},
   "source": [
    "Versão + atualizada! Fiz usando a versão 4.11.2"
   ]
  },
  {
   "cell_type": "code",
   "execution_count": 3,
   "metadata": {},
   "outputs": [],
   "source": [
    "#!pip --upgrade selenium"
   ]
  },
  {
   "cell_type": "code",
   "execution_count": 4,
   "metadata": {},
   "outputs": [
    {
     "name": "stdout",
     "output_type": "stream",
     "text": [
      "Name: selenium\n",
      "Version: 4.11.2\n",
      "Summary: None\n",
      "Home-page: https://www.selenium.dev\n",
      "Author: None\n",
      "Author-email: None\n",
      "License: Apache 2.0\n",
      "Location: c:\\users\\gusta\\anaconda3\\lib\\site-packages\n",
      "Requires: urllib3, trio, certifi, trio-websocket\n",
      "Required-by: \n"
     ]
    }
   ],
   "source": [
    "!pip show selenium"
   ]
  },
  {
   "cell_type": "code",
   "execution_count": 5,
   "metadata": {},
   "outputs": [],
   "source": [
    "#pip install --upgrade selenium"
   ]
  },
  {
   "cell_type": "markdown",
   "metadata": {},
   "source": [
    "## Abrindo página da tabela fipe e fechando"
   ]
  },
  {
   "cell_type": "code",
   "execution_count": 6,
   "metadata": {},
   "outputs": [],
   "source": [
    "from selenium import webdriver\n",
    "from selenium.webdriver.chrome.service import Service\n",
    "from selenium.webdriver.chrome.options import Options\n",
    "import time\n",
    "\n",
    "# Caminho para o seu chromedriver\n",
    "caminho_driver = 'C:/chromedriver-win64/chromedriver.exe'\n",
    "\n",
    "# Configurações do navegador (opcional, mas recomendável)\n",
    "chrome_options = Options()\n",
    "chrome_options.add_argument(\"--start-maximized\")\n",
    "\n",
    "# Iniciando o serviço do ChromeDriver\n",
    "servico = Service(executable_path=caminho_driver)\n",
    "driver = webdriver.Chrome(service=servico, options=chrome_options)\n",
    "\n",
    "# Acessar o site\n",
    "url = \"https://veiculos.fipe.org.br/\"\n",
    "driver.get(url)\n",
    "\n",
    "# Esperar um pouco para ver se carregou\n",
    "time.sleep(5)\n",
    "\n",
    "# Finalizar (por enquanto)\n",
    "driver.quit()"
   ]
  },
  {
   "cell_type": "markdown",
   "metadata": {},
   "source": [
    "## Iniciando a interacão com a página (busca por carros e utilitários pequenos)"
   ]
  },
  {
   "cell_type": "code",
   "execution_count": 13,
   "metadata": {},
   "outputs": [
    {
     "name": "stdout",
     "output_type": "stream",
     "text": [
      "Digite o mês/ano de referência (ex: abril/2025): abril/2025\n",
      "\n",
      "Marcas disponíveis:\n",
      "- Acura\n",
      "- Agrale\n",
      "- Alfa Romeo\n",
      "- AM Gen\n",
      "- Asia Motors\n",
      "- ASTON MARTIN\n",
      "- Audi\n",
      "- Baby\n",
      "- BMW\n",
      "- BRM\n",
      "- Bugre\n",
      "- BYD\n",
      "- CAB Motors\n",
      "- Cadillac\n",
      "- Caoa Chery\n",
      "- Caoa Chery/Chery\n",
      "- CBT Jipe\n",
      "- CHANA\n",
      "- CHANGAN\n",
      "- Chrysler\n",
      "- Citroën\n",
      "- Cross Lander\n",
      "- D2D Motors\n",
      "- Daewoo\n",
      "- Daihatsu\n",
      "- DFSK\n",
      "- Dodge\n",
      "- EFFA\n",
      "- Engesa\n",
      "- Envemo\n",
      "- Ferrari\n",
      "- FEVER\n",
      "- Fiat\n",
      "- Fibravan\n",
      "- Ford\n",
      "- FOTON\n",
      "- Fyber\n",
      "- GEELY\n",
      "- GM - Chevrolet\n",
      "- GREAT WALL\n",
      "- Gurgel\n",
      "- GWM\n",
      "- HAFEI\n",
      "- HITECH ELECTRIC\n",
      "- Honda\n",
      "- Hyundai\n",
      "- Isuzu\n",
      "- IVECO\n",
      "- JAC\n",
      "- Jaguar\n",
      "- Jeep\n",
      "- JINBEI\n",
      "- JPX\n",
      "- Kia Motors\n",
      "- Lada\n",
      "- LAMBORGHINI\n",
      "- Land Rover\n",
      "- Lexus\n",
      "- LIFAN\n",
      "- LOBINI\n",
      "- Lotus\n",
      "- Mahindra\n",
      "- Maserati\n",
      "- Matra\n",
      "- Mazda\n",
      "- Mclaren\n",
      "- Mercedes-Benz\n",
      "- Mercury\n",
      "- MG\n",
      "- MINI\n",
      "- Mitsubishi\n",
      "- Miura\n",
      "- NETA\n",
      "- Nissan\n",
      "- Peugeot\n",
      "- Plymouth\n",
      "- Pontiac\n",
      "- Porsche\n",
      "- RAM\n",
      "- RELY\n",
      "- Renault\n",
      "- Rolls-Royce\n",
      "- Rover\n",
      "- Saab\n",
      "- Saturn\n",
      "- Seat\n",
      "- SERES\n",
      "- SHINERAY\n",
      "- smart\n",
      "- SSANGYONG\n",
      "- Subaru\n",
      "- Suzuki\n",
      "- TAC\n",
      "- Toyota\n",
      "- Troller\n",
      "- Volvo\n",
      "- VW - VolksWagen\n",
      "- Wake\n",
      "- Walk\n",
      "\n",
      "Digite a marca desejada exatamente ou parcialmente (ex: lifan): walk\n",
      "\n",
      "✅ Marca selecionada com sucesso!\n"
     ]
    }
   ],
   "source": [
    "from selenium import webdriver\n",
    "from selenium.webdriver.common.by import By\n",
    "from selenium.webdriver.chrome.service import Service\n",
    "from selenium.webdriver.common.keys import Keys\n",
    "import time\n",
    "\n",
    "# Caminho para o chromedriver\n",
    "service = Service('C:/chromedriver-win64/chromedriver.exe')\n",
    "driver = webdriver.Chrome(service=service)\n",
    "\n",
    "# Acessa o site da FIPE\n",
    "driver.get(\"https://veiculos.fipe.org.br/\")\n",
    "time.sleep(2)\n",
    "\n",
    "# Clica na seção de carros\n",
    "carros_utilitarios = driver.find_element(By.XPATH, \"//div[@class='title' and contains(text(), 'Consulta de Carros')]\")\n",
    "carros_utilitarios.click()\n",
    "time.sleep(2)\n",
    "\n",
    "# Selecionar mês/ano de referência\n",
    "referencia_usuario = input(\"Digite o mês/ano de referência (ex: abril/2025): \").strip().lower()\n",
    "dropdown_ref = driver.find_element(By.ID, \"selectTabelaReferenciacarro_chosen\")\n",
    "dropdown_ref.click()\n",
    "time.sleep(1)\n",
    "campo_busca = dropdown_ref.find_element(By.XPATH, \".//input\")\n",
    "campo_busca.send_keys(referencia_usuario)\n",
    "time.sleep(1)\n",
    "campo_busca.send_keys(Keys.ENTER)\n",
    "time.sleep(2)\n",
    "\n",
    "# --- NOVO: Selecionar marca do veículo ---\n",
    "dropdown_marca = driver.find_element(By.ID, \"selectMarcacarro_chosen\")\n",
    "dropdown_marca.click()\n",
    "time.sleep(1)\n",
    "\n",
    "# Pega todas as marcas disponíveis\n",
    "lista_opcoes = driver.find_elements(By.XPATH, \"//ul[@class='chosen-results']/li\")\n",
    "marcas_disponiveis = [opcao.text for opcao in lista_opcoes if opcao.text.strip() != \"\"]\n",
    "\n",
    "# Mostra as marcas disponíveis para o usuário\n",
    "print(\"\\nMarcas disponíveis:\")\n",
    "for marca in marcas_disponiveis:\n",
    "    print(\"-\", marca)\n",
    "\n",
    "# Input do usuário (convertido para minúsculo pra facilitar a comparação)\n",
    "marca_usuario = input(\"\\nDigite a marca desejada exatamente ou parcialmente (ex: lifan): \").strip().lower()\n",
    "\n",
    "# Procura a marca correspondente\n",
    "marca_encontrada = None\n",
    "for opcao in lista_opcoes:\n",
    "    if marca_usuario in opcao.text.lower():\n",
    "        marca_encontrada = opcao\n",
    "        break\n",
    "\n",
    "if marca_encontrada:\n",
    "    marca_encontrada.click()\n",
    "    print(f\"\\n✅ Marca selecionada com sucesso!\")\n",
    "else:\n",
    "    print(\"\\n⚠️ Marca não encontrada. Verifique o nome digitado.\")\n",
    "\n",
    "time.sleep(3)\n",
    "driver.quit()"
   ]
  },
  {
   "cell_type": "code",
   "execution_count": null,
   "metadata": {},
   "outputs": [],
   "source": []
  }
 ],
 "metadata": {
  "kernelspec": {
   "display_name": "Python 3",
   "language": "python",
   "name": "python3"
  },
  "language_info": {
   "codemirror_mode": {
    "name": "ipython",
    "version": 3
   },
   "file_extension": ".py",
   "mimetype": "text/x-python",
   "name": "python",
   "nbconvert_exporter": "python",
   "pygments_lexer": "ipython3",
   "version": "3.7.4"
  }
 },
 "nbformat": 4,
 "nbformat_minor": 2
}
